{
 "cells": [
  {
   "cell_type": "code",
   "execution_count": null,
   "id": "404421c0-2906-48c1-b449-c13f641c98d7",
   "metadata": {},
   "outputs": [
    {
     "data": {
      "text/plain": [
       "'Day 5 – Quiz App\\nGoal: Ask MCQs, score user, give result\\nConcepts: Lists of dicts, loops, logic\\n'"
      ]
     },
     "execution_count": 1,
     "metadata": {},
     "output_type": "execute_result"
    }
   ],
   "source": [
    "\"\"\"Day 5 – Quiz App\n",
    "Goal: Ask MCQs, score user, give result\n",
    "Concepts: Lists of dicts, loops, logic\n",
    "\"\"\""
   ]
  },
  {
   "cell_type": "code",
   "execution_count": null,
   "id": "5b9efd11-e46e-43ee-9673-abef6e367156",
   "metadata": {},
   "outputs": [
    {
     "name": "stdout",
     "output_type": "stream",
     "text": [
      "Question No. 1\n",
      "What is the capital of France?\n",
      "A) Berlin\n",
      "B) Madrid\n",
      "C) Paris\n",
      "D) Rome\n"
     ]
    }
   ],
   "source": [
    "quiz_questions = [\n",
    "    {\n",
    "        \"question\": \"What is the capital of France?\",\n",
    "        \"options\": [\"A) Berlin\", \"B) Madrid\", \"C) Paris\", \"D) Rome\"],\n",
    "        \"answer\": \"C\"\n",
    "    },\n",
    "    {\n",
    "        \"question\": \"Which data type is immutable in Python?\",\n",
    "        \"options\": [\"A) List\", \"B) Tuple\", \"C) Dictionary\", \"D) Set\"],\n",
    "        \"answer\": \"B\"\n",
    "    },\n",
    "    {\n",
    "        \"question\": \"Which of the following is a Python library for machine learning?\",\n",
    "        \"options\": [\"A) NumPy\", \"B) Matplotlib\", \"C) Scikit-learn\", \"D) Pandas\"],\n",
    "        \"answer\": \"C\"\n",
    "    },\n",
    "    {\n",
    "        \"question\": \"What symbol is used for comments in Python?\",\n",
    "        \"options\": [\"A) //\", \"B) <!-- -->\", \"C) #\", \"D) /* */\"],\n",
    "        \"answer\": \"C\"\n",
    "    },\n",
    "    {\n",
    "        \"question\": \"Which method is used to add an element to a Python list?\",\n",
    "        \"options\": [\"A) push()\", \"B) add()\", \"C) append()\", \"D) insertLast()\"],\n",
    "        \"answer\": \"C\"\n",
    "    },\n",
    "    {\n",
    "        \"question\": \"In AI, what does NLP stand for?\",\n",
    "        \"options\": [\"A) Neural Learning Process\", \"B) Natural Language Processing\", \"C) Numeric Linear Programming\", \"D) None\"],\n",
    "        \"answer\": \"B\"\n",
    "    },\n",
    "    {\n",
    "        \"question\": \"What is the output of 2 ** 3 in Python?\",\n",
    "        \"options\": [\"A) 6\", \"B) 8\", \"C) 9\", \"D) 12\"],\n",
    "        \"answer\": \"B\"\n",
    "    },\n",
    "    {\n",
    "        \"question\": \"Which keyword is used to define a function in Python?\",\n",
    "        \"options\": [\"A) function\", \"B) def\", \"C) define\", \"D) lambda\"],\n",
    "        \"answer\": \"B\"\n",
    "    },\n",
    "    {\n",
    "        \"question\": \"Which is the correct file extension for Python files?\",\n",
    "        \"options\": [\"A) .pyth\", \"B) .pt\", \"C) .pyt\", \"D) .py\"],\n",
    "        \"answer\": \"D\"\n",
    "    },\n",
    "    {\n",
    "        \"question\": \"Which of the following is NOT a supervised learning algorithm?\",\n",
    "        \"options\": [\"A) Decision Trees\", \"B) K-Means Clustering\", \"C) Random Forest\", \"D) Linear Regression\"],\n",
    "        \"answer\": \"B\"\n",
    "    }\n",
    "]\n",
    "\n",
    "score = 0\n",
    "wrong = []\n",
    "for que, q in enumerate(quiz_questions, start=1):\n",
    "    print(f\"Question No. {que}\")\n",
    "    print(q[\"question\"])\n",
    "    for i in q[\"options\"]:\n",
    "        print(i)\n",
    "    while True:\n",
    "        opt = input(\"Enter your choice (A/B/C/D): \")\n",
    "        if opt in (\"A\", \"B\", \"C\", \"D\"):\n",
    "            if opt == q[\"answer\"]:\n",
    "                score += 1\n",
    "            else:\n",
    "                wrong.append(f\"Question No. {que}\")\n",
    "            break\n",
    "        else:\n",
    "            print(\"Option out of range \")\n",
    "\n",
    "print(f\"\\nYour score is {score} out of {len(quiz_questions)}\")\n",
    "acc = (score * 100) / len(quiz_questions)\n",
    "print(f\"Accuracy = {acc:.2f}%\")\n",
    "\n",
    "if wrong:\n",
    "    print(\"\\nYou got these questions wrong:\")\n",
    "    for w in wrong:\n",
    "        print(w)\n",
    "\n",
    "        \n",
    "    \n",
    "\n",
    "\n"
   ]
  },
  {
   "cell_type": "code",
   "execution_count": null,
   "id": "abbb6cce-1693-49d8-bec1-03bafe971822",
   "metadata": {},
   "outputs": [],
   "source": []
  }
 ],
 "metadata": {
  "kernelspec": {
   "display_name": "Python 3",
   "language": "python",
   "name": "python3"
  },
  "language_info": {
   "codemirror_mode": {
    "name": "ipython",
    "version": 3
   },
   "file_extension": ".py",
   "mimetype": "text/x-python",
   "name": "python",
   "nbconvert_exporter": "python",
   "pygments_lexer": "ipython3",
   "version": "3.9.8"
  }
 },
 "nbformat": 4,
 "nbformat_minor": 5
}
