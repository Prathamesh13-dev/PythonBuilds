{
 "cells": [
  {
   "cell_type": "raw",
   "id": "166da94d-ff25-4f89-b88c-ddbfb501e3ef",
   "metadata": {},
   "source": [
    "#3 - Rock, Paper, Scissors\n",
    "Implement the well-known game where the user competes against the computer. This project reinforces conditional logic and random number generation."
   ]
  },
  {
   "cell_type": "code",
   "execution_count": null,
   "id": "1f968244-82bf-4b66-8cf2-96ffe0850db3",
   "metadata": {},
   "outputs": [
    {
     "name": "stdout",
     "output_type": "stream",
     "text": [
      "1. Rock\n",
      "2. Paper\n",
      "3. Scissor\n"
     ]
    }
   ],
   "source": [
    "import random\n",
    "while True :\n",
    "    print(\"1. Rock\\n2. Paper\\n3. Scissor\")\n",
    "    user = int(input(\"Enter your choice (1,2,3)\"))\n",
    "    if user not in [1,2,3]:\n",
    "        continue\n",
    "    comp = random.choice(['Rock','Paper','Scissor'])\n",
    "    if user == 1:\n",
    "        user_choice = 'Rock'\n",
    "    elif user == 2:\n",
    "        user_choice = 'Paper'\n",
    "    else:\n",
    "        user_choice = 'Scissor'\n",
    "    if comp == user_choice:\n",
    "        print('Its tie')\n",
    "    elif (user_choice == 'Paper' and comp == 'Rock') or (user_choice =='Rock' and comp == 'Scissors') or (user_choice == 'Scissor' and comp == 'Paper'):\n",
    "        print('You win')\n",
    "    else :\n",
    "        print('You lost')\n",
    "\n",
    "    print(f'You entered    =  {user_choice}\\nComputer choice     = {comp}')\n",
    "    while True:\n",
    "        again = input(\"\\nWant to play again? (y = yes, n = no): \").lower()\n",
    "        if again == 'y':\n",
    "            break\n",
    "        elif again == 'n':\n",
    "            print(\"Thanks for playing\")\n",
    "            exit()\n",
    "        else:\n",
    "            print(\"Invalid input! Please enter only 'y' or 'n'.\")\n"
   ]
  },
  {
   "cell_type": "code",
   "execution_count": null,
   "id": "1f5d5c0e-4b87-4275-951d-502cafe24ee9",
   "metadata": {},
   "outputs": [],
   "source": []
  }
 ],
 "metadata": {
  "kernelspec": {
   "display_name": "Python 3 (ipykernel)",
   "language": "python",
   "name": "python3"
  },
  "language_info": {
   "codemirror_mode": {
    "name": "ipython",
    "version": 3
   },
   "file_extension": ".py",
   "mimetype": "text/x-python",
   "name": "python",
   "nbconvert_exporter": "python",
   "pygments_lexer": "ipython3",
   "version": "3.9.8"
  }
 },
 "nbformat": 4,
 "nbformat_minor": 5
}
