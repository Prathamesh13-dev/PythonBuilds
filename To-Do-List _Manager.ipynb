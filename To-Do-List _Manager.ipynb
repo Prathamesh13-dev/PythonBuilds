{
 "cells": [
  {
   "cell_type": "raw",
   "id": "dd403663-6adc-488b-a944-119a00eb0e3b",
   "metadata": {},
   "source": [
    "\"\"\"\n",
    "📅 Day 4 – To-Do List Manager\n",
    "Goal: Add tasks, mark complete, delete, view\n",
    "\n",
    "Concepts: functions\n",
    "\"\"\""
   ]
  },
  {
   "cell_type": "code",
   "execution_count": null,
   "id": "8b484a94-72b3-4812-869e-b57e07325f8f",
   "metadata": {},
   "outputs": [],
   "source": [
    "def writing():\n",
    "    date = input(\"Enter date (DD/MM/YYYY): \")\n",
    "    with open(\"task_file.txt\", \"a\") as f:\n",
    "        f.write(f\"\\n{date}\\n\")\n",
    "        for i in range(1, 101):\n",
    "            task = input(f\"Enter task-{i} (or type 'exit' to stop): \")\n",
    "            if task == \"exit\":\n",
    "                break\n",
    "            f.write(f\"{i}. {task}\\n\")\n",
    "def reading():\n",
    "    with open(\"task_file.txt\", \"r\") as f:\n",
    "        print(f.read())\n",
    "\n",
    "def delete_task():\n",
    "    with open(\"task_file.txt\", \"w\") as f:\n",
    "        f.write(\"\")\n",
    "\n",
    "while True:\n",
    "    choice = input(\"\\nChoose an option: write/read/clear/exit : \")\n",
    "    if choice == \"write\":\n",
    "        writing()\n",
    "    elif choice == \"read\":\n",
    "        reading()\n",
    "    elif choice == \"clear\":\n",
    "        delete_task()\n",
    "        print(\"All tasks are deleted\")\n",
    "    elif choice == \"exit\":\n",
    "        break\n",
    "    else:\n",
    "        print(\"Invalid option, please try again.\")\n",
    "\n"
   ]
  }
 ],
 "metadata": {
  "kernelspec": {
   "display_name": "Python 3",
   "language": "python",
   "name": "python3"
  },
  "language_info": {
   "codemirror_mode": {
    "name": "ipython",
    "version": 3
   },
   "file_extension": ".py",
   "mimetype": "text/x-python",
   "name": "python",
   "nbconvert_exporter": "python",
   "pygments_lexer": "ipython3",
   "version": "3.9.8"
  }
 },
 "nbformat": 4,
 "nbformat_minor": 5
}
