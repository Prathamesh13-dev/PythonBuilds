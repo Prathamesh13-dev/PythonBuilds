{
 "cells": [
  {
   "cell_type": "code",
   "execution_count": 1,
   "id": "b67d883d-12a8-4dde-92c3-999531996349",
   "metadata": {},
   "outputs": [
    {
     "data": {
      "text/plain": [
       "'📅 Day 7 – Contact Book\\nGoal: Add, update, delete contacts (name, number)\\n\\nConcepts: Dictionary CRUD, functions'"
      ]
     },
     "execution_count": 1,
     "metadata": {},
     "output_type": "execute_result"
    }
   ],
   "source": [
    "\"\"\"📅 Day 7 – Contact Book\n",
    "Goal: Add, update, delete contacts (name, number)\n",
    "\n",
    "Concepts: Dictionary CRUD, functions\"\"\""
   ]
  },
  {
   "cell_type": "code",
   "execution_count": null,
   "id": "2dba1b2d-2209-4b28-a17b-9ce718222059",
   "metadata": {},
   "outputs": [],
   "source": [
    "try:\n",
    "    contact = {}\n",
    "    while True:\n",
    "        print(\"Enter Name...........  :\")\n",
    "        name = input(\"Enter :\")\n",
    "        while True:\n",
    "            print(\"Enter number...........  :\")\n",
    "            number = input(\"Enter:\").strip()\n",
    "            if len(number) == 10:\n",
    "                break\n",
    "            else:\n",
    "                print(\"......Length of number must be equal to 10......\")\n",
    "                continue\n",
    "        contact.update({name:number})\n",
    "        choice = input(\"Want to add one more contact number (yes/no)\").strip()\n",
    "        if choice.lower() == \"yes\":\n",
    "            continue\n",
    "        elif choice.lower():\n",
    "            break\n",
    "        else:\n",
    "            print(\"Wrong input..........\")\n",
    "    print(\".........Contacts.........\")\n",
    "    for key , value in contact.items():\n",
    "        print(key,\":\",value)\n",
    "        \n",
    "except ValueError:\n",
    "    print(\"Invalid input\")"
   ]
  },
  {
   "cell_type": "code",
   "execution_count": null,
   "id": "b4db5c05-722e-4835-9476-6b41cdc677e7",
   "metadata": {},
   "outputs": [],
   "source": []
  },
  {
   "cell_type": "code",
   "execution_count": null,
   "id": "69aadb02-970b-4d91-85ff-832e358fe4b9",
   "metadata": {},
   "outputs": [],
   "source": []
  }
 ],
 "metadata": {
  "kernelspec": {
   "display_name": "Python 3 (ipykernel)",
   "language": "python",
   "name": "python3"
  },
  "language_info": {
   "codemirror_mode": {
    "name": "ipython",
    "version": 3
   },
   "file_extension": ".py",
   "mimetype": "text/x-python",
   "name": "python",
   "nbconvert_exporter": "python",
   "pygments_lexer": "ipython3",
   "version": "3.9.8"
  }
 },
 "nbformat": 4,
 "nbformat_minor": 5
}
