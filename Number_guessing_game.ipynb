{
 "cells": [
  {
   "cell_type": "raw",
   "id": "5a2379ed-358f-41e3-8402-cd55342e916a",
   "metadata": {},
   "source": [
    "📅 Day 6 – Number Guessing Game\n",
    "Goal: Random number, guess attempts, feedback\n",
    "\n",
    "Concepts: Random module, loops, conditions"
   ]
  },
  {
   "cell_type": "code",
   "execution_count": 1,
   "id": "2981fd47-b554-4bf3-9343-e5455903225b",
   "metadata": {},
   "outputs": [
    {
     "name": "stdout",
     "output_type": "stream",
     "text": [
      "............Number Guessing Game.............\n",
      "\n",
      "Guess the number between 1 to 10\n"
     ]
    },
    {
     "name": "stdin",
     "output_type": "stream",
     "text": [
      "Enter number  : 5\n"
     ]
    },
    {
     "name": "stdout",
     "output_type": "stream",
     "text": [
      "Number is greater then this...........\n"
     ]
    },
    {
     "name": "stdin",
     "output_type": "stream",
     "text": [
      "Enter number  : 9\n"
     ]
    },
    {
     "name": "stdout",
     "output_type": "stream",
     "text": [
      "Number is lower then this.............\n"
     ]
    },
    {
     "name": "stdin",
     "output_type": "stream",
     "text": [
      "Enter number  : 8\n"
     ]
    },
    {
     "name": "stdout",
     "output_type": "stream",
     "text": [
      "......You guessed the number.....\n",
      "The number is 8\n",
      "Number of attempt 3\n"
     ]
    }
   ],
   "source": [
    "import random\n",
    "print(\"............Number Guessing Game.............\")\n",
    "print()\n",
    "try:\n",
    "    attempt = 0\n",
    "    gussing_num = random.randint(1,10)\n",
    "    print(\"Guess the number between 1 to 10\")\n",
    "    while True:\n",
    "        num = int(input(\"Enter number  :\"))\n",
    "        attempt+=1\n",
    "        if num == gussing_num:\n",
    "            break\n",
    "        elif num > gussing_num:\n",
    "            print(\"Number is lower then this.............\")\n",
    "        else:\n",
    "            print(\"Number is greater then this...........\")\n",
    "            \n",
    "            \n",
    "            \n",
    "    print(\"......You guessed the number.....\")\n",
    "    print(f\"The number is {gussing_num}\")\n",
    "    print(f\"Number of attempt {attempt}\")\n",
    "            \n",
    "except ValueError:\n",
    "    print(\"Invalid input\")"
   ]
  },
  {
   "cell_type": "code",
   "execution_count": null,
   "id": "92f1f86e-fcb2-40a8-9cc7-c924ced9b3e9",
   "metadata": {},
   "outputs": [],
   "source": []
  }
 ],
 "metadata": {
  "kernelspec": {
   "display_name": "Python 3 (ipykernel)",
   "language": "python",
   "name": "python3"
  },
  "language_info": {
   "codemirror_mode": {
    "name": "ipython",
    "version": 3
   },
   "file_extension": ".py",
   "mimetype": "text/x-python",
   "name": "python",
   "nbconvert_exporter": "python",
   "pygments_lexer": "ipython3",
   "version": "3.9.8"
  }
 },
 "nbformat": 4,
 "nbformat_minor": 5
}
